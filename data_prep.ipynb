{
 "cells": [
  {
   "cell_type": "code",
   "execution_count": 14,
   "metadata": {},
   "outputs": [],
   "source": [
    "import os\n",
    "import shutil\n",
    "import random\n",
    "import numpy as np"
   ]
  },
  {
   "cell_type": "code",
   "execution_count": 15,
   "metadata": {},
   "outputs": [],
   "source": [
    "file_rel_pathname  = \"/home/past/dataset/6_classes\"\n",
    "fluent_path  = file_rel_pathname + \"/fluent\"\n",
    "snd_rep_path = file_rel_pathname + \"/sound_Rep\"\n",
    "prolong_path = file_rel_pathname + \"/prolongation\"\n",
    "word_rep_path= file_rel_pathname + \"/wp_rep\"\n",
    "\n"
   ]
  },
  {
   "cell_type": "code",
   "execution_count": 16,
   "metadata": {},
   "outputs": [
    {
     "name": "stdout",
     "output_type": "stream",
     "text": [
      "Number of files for fluent : 6913\n",
      "Number of files for snd_rep : 755\n",
      "Number of files for word_rep : 1478\n",
      "Number of files for prolong : 746\n"
     ]
    }
   ],
   "source": [
    "print('Number of files for fluent :', len(os.listdir(fluent_path)))\n",
    "print('Number of files for snd_rep :', len(os.listdir(snd_rep_path)))\n",
    "print('Number of files for word_rep :', len(os.listdir(word_rep_path)))\n",
    "print('Number of files for prolong :', len(os.listdir(prolong_path)))"
   ]
  },
  {
   "cell_type": "markdown",
   "metadata": {},
   "source": [
    "## Shuffle and pick 10% of each for testing"
   ]
  },
  {
   "cell_type": "code",
   "execution_count": 17,
   "metadata": {},
   "outputs": [
    {
     "name": "stdout",
     "output_type": "stream",
     "text": [
      "6221\n",
      "1555\n"
     ]
    }
   ],
   "source": [
    "fluent = os.listdir(fluent_path)\n",
    "random.shuffle(fluent)\n",
    "test_len = int(np.floor(0.1*len(fluent)))\n",
    "test_data = fluent[0:test_len]\n",
    "train_data = fluent[test_len+1:len(fluent)]\n",
    "print(len(train_data))\n",
    "ratio_data = 0.25\n",
    "train_data = train_data[0:int(ratio_data*(len(train_data)))]\n",
    "#print(len(test_data))\n",
    "print(len(train_data))\n",
    "\n"
   ]
  },
  {
   "cell_type": "code",
   "execution_count": 18,
   "metadata": {},
   "outputs": [],
   "source": [
    "# define split_percent as a number between 0-1\n",
    "# ratio_data determins how much of the data you wanna keep for training after the test is kept out\n",
    "# writes data as train and test in the destination directory after shuffling\n",
    "def split_train_test(split_percent, ratio_data, src_dir_path, dest_train_dir_path, dest_test_dir_path) :\n",
    "    data = os.listdir(src_dir_path)\n",
    "    random.shuffle(data)\n",
    "    test_len = int(np.floor(0.1*len(data)))\n",
    "    test_data = data[0:test_len]\n",
    "    train_data = data[test_len+1:len(data)]\n",
    "    train_data = train_data[0:int(ratio_data*(len(train_data)))]\n",
    "    print('Number of sample points for testing :', len(test_data))\n",
    "    print('Number of sample points for training : ',len(train_data))\n",
    "    for fname_train in train_data:\n",
    "        shutil.copy2(os.path.join(src_dir_path,fname_train), dest_train_dir_path) \n",
    "     \n",
    "    for fname_test in test_data:\n",
    "        shutil.copy2(os.path.join(src_dir_path,fname_test), dest_test_dir_path)\n"
   ]
  },
  {
   "cell_type": "code",
   "execution_count": 19,
   "metadata": {},
   "outputs": [],
   "source": [
    "\n",
    "dest_path_fluent_train_full = \"/home/past/payal/SSL-based-Automatic-Stutter-Detection-/Dataset_uptd/all_data/fluent\"\n",
    "dest_path_fluent_train_half = \"/home/past/payal/SSL-based-Automatic-Stutter-Detection-/Dataset_uptd/half_data/fluent\"\n",
    "dest_path_fluent_train_quart = \"/home/past/payal/SSL-based-Automatic-Stutter-Detection-/Dataset_uptd/quart_data/fluent\"\n",
    "dest_path_fluent_test = \"/home/past/payal/SSL-based-Automatic-Stutter-Detection-/Dataset_uptd/test_data/fluent\"\n",
    "\n",
    "dest_path_snd_train_full = \"/home/past/payal/SSL-based-Automatic-Stutter-Detection-/Dataset_uptd/all_data/snd\"\n",
    "dest_path_snd_train_half = \"/home/past/payal/SSL-based-Automatic-Stutter-Detection-/Dataset_uptd/half_data/snd\"\n",
    "dest_path_snd_train_quart = \"/home/past/payal/SSL-based-Automatic-Stutter-Detection-/Dataset_uptd/quart_data/snd\"\n",
    "dest_path_snd_test = \"/home/past/payal/SSL-based-Automatic-Stutter-Detection-/Dataset_uptd/test_data/snd\"\n",
    "\n",
    "dest_path_pro_train_full = \"/home/past/payal/SSL-based-Automatic-Stutter-Detection-/Dataset_uptd/all_data/pro\"\n",
    "dest_path_pro_train_half = \"/home/past/payal/SSL-based-Automatic-Stutter-Detection-/Dataset_uptd/half_data/pro\"\n",
    "dest_path_pro_train_quart = \"/home/past/payal/SSL-based-Automatic-Stutter-Detection-/Dataset_uptd/quart_data/pro\"\n",
    "dest_path_pro_test = \"/home/past/payal/SSL-based-Automatic-Stutter-Detection-/Dataset_uptd/test_data/pro\"\n",
    "\n",
    "dest_path_wp_train_full = \"/home/past/payal/SSL-based-Automatic-Stutter-Detection-/Dataset_uptd/all_data/wp\"\n",
    "dest_path_wp_train_half = \"/home/past/payal/SSL-based-Automatic-Stutter-Detection-/Dataset_uptd/half_data/wp\"\n",
    "dest_path_wp_train_quart = \"/home/past/payal/SSL-based-Automatic-Stutter-Detection-/Dataset_uptd/quart_data/wp\"\n",
    "dest_path_wp_test = \"/home/past/payal/SSL-based-Automatic-Stutter-Detection-/Dataset_uptd/test_data/wp\""
   ]
  },
  {
   "cell_type": "code",
   "execution_count": 20,
   "metadata": {},
   "outputs": [
    {
     "name": "stdout",
     "output_type": "stream",
     "text": [
      "Number of sample points for testing : 691\n",
      "Number of sample points for training :  6221\n",
      "Number of sample points for testing : 75\n",
      "Number of sample points for training :  679\n",
      "Number of sample points for testing : 74\n",
      "Number of sample points for training :  671\n",
      "Number of sample points for testing : 147\n",
      "Number of sample points for training :  1330\n"
     ]
    }
   ],
   "source": [
    "#split_train_test(split_percent, ratio_data, src_dir_path, dest_train_dir_path,        dest_test_dir_path)\n",
    "split_train_test(0.1           , 1         , fluent_path,  '/home/past/payal/SSL-based-Automatic-Stutter-Detection-/Dataset_uptd/all_data/train_data/fluent', '/home/past/payal/SSL-based-Automatic-Stutter-Detection-/Dataset_uptd/all_data/test_data/fluent') \n",
    "split_train_test(0.1           , 1         , snd_rep_path, '/home/past/payal/SSL-based-Automatic-Stutter-Detection-/Dataset_uptd/all_data/train_data/snd', '/home/past/payal/SSL-based-Automatic-Stutter-Detection-/Dataset_uptd/all_data/test_data/snd') \n",
    "split_train_test(0.1           , 1         , prolong_path, '/home/past/payal/SSL-based-Automatic-Stutter-Detection-/Dataset_uptd/all_data/train_data/pro', '/home/past/payal/SSL-based-Automatic-Stutter-Detection-/Dataset_uptd/all_data/test_data/pro') \n",
    "split_train_test(0.1           , 1         , word_rep_path,'/home/past/payal/SSL-based-Automatic-Stutter-Detection-/Dataset_uptd/all_data/train_data/wp', '/home/past/payal/SSL-based-Automatic-Stutter-Detection-/Dataset_uptd/all_data/test_data/wp') \n"
   ]
  },
  {
   "cell_type": "code",
   "execution_count": 21,
   "metadata": {},
   "outputs": [
    {
     "name": "stdout",
     "output_type": "stream",
     "text": [
      "Number of sample points for testing : 691\n",
      "Number of sample points for training :  3110\n",
      "Number of sample points for testing : 75\n",
      "Number of sample points for training :  339\n",
      "Number of sample points for testing : 74\n",
      "Number of sample points for training :  335\n",
      "Number of sample points for testing : 147\n",
      "Number of sample points for training :  665\n"
     ]
    }
   ],
   "source": [
    "split_train_test(0.1           , 0.5         , fluent_path,  '/home/past/payal/SSL-based-Automatic-Stutter-Detection-/Dataset_uptd/half_data/train_data/fluent', '/home/past/payal/SSL-based-Automatic-Stutter-Detection-/Dataset_uptd/half_data/test_data/fluent') \n",
    "split_train_test(0.1           , 0.5         , snd_rep_path, '/home/past/payal/SSL-based-Automatic-Stutter-Detection-/Dataset_uptd/half_data/train_data/snd',    '/home/past/payal/SSL-based-Automatic-Stutter-Detection-/Dataset_uptd/half_data/test_data/snd') \n",
    "split_train_test(0.1           , 0.5         , prolong_path, '/home/past/payal/SSL-based-Automatic-Stutter-Detection-/Dataset_uptd/half_data/train_data/pro',    '/home/past/payal/SSL-based-Automatic-Stutter-Detection-/Dataset_uptd/half_data/test_data/pro') \n",
    "split_train_test(0.1           , 0.5         , word_rep_path,'/home/past/payal/SSL-based-Automatic-Stutter-Detection-/Dataset_uptd/half_data/train_data/wp',     '/home/past/payal/SSL-based-Automatic-Stutter-Detection-/Dataset_uptd/half_data/test_data/wp') "
   ]
  },
  {
   "cell_type": "code",
   "execution_count": 22,
   "metadata": {},
   "outputs": [
    {
     "name": "stdout",
     "output_type": "stream",
     "text": [
      "Number of sample points for testing : 691\n",
      "Number of sample points for training :  1555\n",
      "Number of sample points for testing : 75\n",
      "Number of sample points for training :  169\n",
      "Number of sample points for testing : 74\n",
      "Number of sample points for training :  167\n",
      "Number of sample points for testing : 147\n",
      "Number of sample points for training :  332\n"
     ]
    }
   ],
   "source": [
    "split_train_test(0.1           , 0.25         , fluent_path,  '/home/past/payal/SSL-based-Automatic-Stutter-Detection-/Dataset_uptd/quart_data/train_data/fluent', '/home/past/payal/SSL-based-Automatic-Stutter-Detection-/Dataset_uptd/quart_data/test_data/fluent') \n",
    "split_train_test(0.1           , 0.25         , snd_rep_path, '/home/past/payal/SSL-based-Automatic-Stutter-Detection-/Dataset_uptd/quart_data/train_data/snd',    '/home/past/payal/SSL-based-Automatic-Stutter-Detection-/Dataset_uptd/quart_data/test_data/snd') \n",
    "split_train_test(0.1           , 0.25         , prolong_path, '/home/past/payal/SSL-based-Automatic-Stutter-Detection-/Dataset_uptd/quart_data/train_data/pro',    '/home/past/payal/SSL-based-Automatic-Stutter-Detection-/Dataset_uptd/quart_data/test_data/pro') \n",
    "split_train_test(0.1           , 0.25         , word_rep_path,'/home/past/payal/SSL-based-Automatic-Stutter-Detection-/Dataset_uptd/quart_data/train_data/wp',     '/home/past/payal/SSL-based-Automatic-Stutter-Detection-/Dataset_uptd/quart_data/test_data/wp') "
   ]
  },
  {
   "cell_type": "code",
   "execution_count": null,
   "metadata": {},
   "outputs": [],
   "source": []
  }
 ],
 "metadata": {
  "interpreter": {
   "hash": "452e40ca39e9a9f253f95083a5a1e40562e1a769518b37328592047353bd5300"
  },
  "kernelspec": {
   "display_name": "Python 3.9.7 ('wav2vec')",
   "language": "python",
   "name": "python3"
  },
  "language_info": {
   "codemirror_mode": {
    "name": "ipython",
    "version": 3
   },
   "file_extension": ".py",
   "mimetype": "text/x-python",
   "name": "python",
   "nbconvert_exporter": "python",
   "pygments_lexer": "ipython3",
   "version": "3.9.7"
  },
  "orig_nbformat": 4
 },
 "nbformat": 4,
 "nbformat_minor": 2
}
